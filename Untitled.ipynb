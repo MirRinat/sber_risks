{
 "cells": [
  {
   "cell_type": "code",
   "execution_count": 34,
   "metadata": {},
   "outputs": [],
   "source": [
    "import pandas as pd\n",
    "import json"
   ]
  },
  {
   "cell_type": "code",
   "execution_count": 117,
   "metadata": {},
   "outputs": [
    {
     "data": {
      "text/html": [
       "<div>\n",
       "<style scoped>\n",
       "    .dataframe tbody tr th:only-of-type {\n",
       "        vertical-align: middle;\n",
       "    }\n",
       "\n",
       "    .dataframe tbody tr th {\n",
       "        vertical-align: top;\n",
       "    }\n",
       "\n",
       "    .dataframe thead th {\n",
       "        text-align: right;\n",
       "    }\n",
       "</style>\n",
       "<table border=\"1\" class=\"dataframe\">\n",
       "  <thead>\n",
       "    <tr style=\"text-align: right;\">\n",
       "      <th></th>\n",
       "      <th>client_1</th>\n",
       "      <th>client_2</th>\n",
       "      <th>client_3</th>\n",
       "    </tr>\n",
       "  </thead>\n",
       "  <tbody>\n",
       "    <tr>\n",
       "      <th>name</th>\n",
       "      <td>Петров Николай Иванович</td>\n",
       "      <td>Иванов Петр Николаевич</td>\n",
       "      <td>Николаев Иван Петрович</td>\n",
       "    </tr>\n",
       "    <tr>\n",
       "      <th>clientType</th>\n",
       "      <td>ИП</td>\n",
       "      <td>ИП</td>\n",
       "      <td>ИП</td>\n",
       "    </tr>\n",
       "    <tr>\n",
       "      <th>birthday</th>\n",
       "      <td>09.07.2003</td>\n",
       "      <td>01.01.1990</td>\n",
       "      <td>11.11.1987</td>\n",
       "    </tr>\n",
       "    <tr>\n",
       "      <th>inn</th>\n",
       "      <td>123456789123</td>\n",
       "      <td>123456789124</td>\n",
       "      <td>123456789125</td>\n",
       "    </tr>\n",
       "    <tr>\n",
       "      <th>citizenship</th>\n",
       "      <td>RU</td>\n",
       "      <td>US</td>\n",
       "      <td>RU</td>\n",
       "    </tr>\n",
       "    <tr>\n",
       "      <th>appNO</th>\n",
       "      <td>[V445B4, V45V24BB56B, F452V-454]</td>\n",
       "      <td>[SDF-S4B44-RTB, V24-VRQ-DV, 2-CQE-RV-EW3]</td>\n",
       "      <td>[24C-4-V4, V-2-4RTV-24-V-13V, CSDF-BW]</td>\n",
       "    </tr>\n",
       "    <tr>\n",
       "      <th>dateStart</th>\n",
       "      <td>[11.11.2016, 11.10.2017, 11.10.2018]</td>\n",
       "      <td>[11.11.2016, 11.10.2017, 11.10.2018]</td>\n",
       "      <td>[11.11.2016, 11.10.2017, 11.10.2018]</td>\n",
       "    </tr>\n",
       "    <tr>\n",
       "      <th>dateEnd</th>\n",
       "      <td>[, 01.01.2020, ]</td>\n",
       "      <td>[, , ]</td>\n",
       "      <td>[01.01.2020, 01.01.2020, 01.01.2020]</td>\n",
       "    </tr>\n",
       "    <tr>\n",
       "      <th>sumLiability</th>\n",
       "      <td>[100000, 555000, 100500]</td>\n",
       "      <td>[1000000, 99000, 125000]</td>\n",
       "      <td>[1500000, 200000, 350000]</td>\n",
       "    </tr>\n",
       "    <tr>\n",
       "      <th>sumBalance</th>\n",
       "      <td>[10000, 0, 50000]</td>\n",
       "      <td>[950000, 15000, 10000]</td>\n",
       "      <td>[0, 0, 0]</td>\n",
       "    </tr>\n",
       "    <tr>\n",
       "      <th>sumDelay</th>\n",
       "      <td>[0, 0, 2500]</td>\n",
       "      <td>[25000, 1000, 0]</td>\n",
       "      <td>[0, 0, 0]</td>\n",
       "    </tr>\n",
       "    <tr>\n",
       "      <th>appOwner</th>\n",
       "      <td>[Петров|09.07.2003, Иванов|09.07.2003, Петров|...</td>\n",
       "      <td>[Иванов|01.01.1990, Иванов|01.01.1990, Иванов|...</td>\n",
       "      <td>[Николаев|11.11.1987, Николаев|11.11.1987, Ник...</td>\n",
       "    </tr>\n",
       "    <tr>\n",
       "      <th>stopList</th>\n",
       "      <td>1</td>\n",
       "      <td>1</td>\n",
       "      <td>1</td>\n",
       "    </tr>\n",
       "    <tr>\n",
       "      <th>egripStatus</th>\n",
       "      <td>1</td>\n",
       "      <td>1</td>\n",
       "      <td>0</td>\n",
       "    </tr>\n",
       "    <tr>\n",
       "      <th>dateRegistration</th>\n",
       "      <td>11.11.2019</td>\n",
       "      <td>11.11.2015</td>\n",
       "      <td>11.11.2020</td>\n",
       "    </tr>\n",
       "  </tbody>\n",
       "</table>\n",
       "</div>"
      ],
      "text/plain": [
       "                                                           client_1  \\\n",
       "name                                        Петров Николай Иванович   \n",
       "clientType                                                       ИП   \n",
       "birthday                                                 09.07.2003   \n",
       "inn                                                    123456789123   \n",
       "citizenship                                                      RU   \n",
       "appNO                              [V445B4, V45V24BB56B, F452V-454]   \n",
       "dateStart                      [11.11.2016, 11.10.2017, 11.10.2018]   \n",
       "dateEnd                                            [, 01.01.2020, ]   \n",
       "sumLiability                               [100000, 555000, 100500]   \n",
       "sumBalance                                        [10000, 0, 50000]   \n",
       "sumDelay                                               [0, 0, 2500]   \n",
       "appOwner          [Петров|09.07.2003, Иванов|09.07.2003, Петров|...   \n",
       "stopList                                                          1   \n",
       "egripStatus                                                       1   \n",
       "dateRegistration                                         11.11.2019   \n",
       "\n",
       "                                                           client_2  \\\n",
       "name                                         Иванов Петр Николаевич   \n",
       "clientType                                                       ИП   \n",
       "birthday                                                 01.01.1990   \n",
       "inn                                                    123456789124   \n",
       "citizenship                                                      US   \n",
       "appNO                     [SDF-S4B44-RTB, V24-VRQ-DV, 2-CQE-RV-EW3]   \n",
       "dateStart                      [11.11.2016, 11.10.2017, 11.10.2018]   \n",
       "dateEnd                                                      [, , ]   \n",
       "sumLiability                               [1000000, 99000, 125000]   \n",
       "sumBalance                                   [950000, 15000, 10000]   \n",
       "sumDelay                                           [25000, 1000, 0]   \n",
       "appOwner          [Иванов|01.01.1990, Иванов|01.01.1990, Иванов|...   \n",
       "stopList                                                          1   \n",
       "egripStatus                                                       1   \n",
       "dateRegistration                                         11.11.2015   \n",
       "\n",
       "                                                           client_3  \n",
       "name                                         Николаев Иван Петрович  \n",
       "clientType                                                       ИП  \n",
       "birthday                                                 11.11.1987  \n",
       "inn                                                    123456789125  \n",
       "citizenship                                                      RU  \n",
       "appNO                        [24C-4-V4, V-2-4RTV-24-V-13V, CSDF-BW]  \n",
       "dateStart                      [11.11.2016, 11.10.2017, 11.10.2018]  \n",
       "dateEnd                        [01.01.2020, 01.01.2020, 01.01.2020]  \n",
       "sumLiability                              [1500000, 200000, 350000]  \n",
       "sumBalance                                                [0, 0, 0]  \n",
       "sumDelay                                                  [0, 0, 0]  \n",
       "appOwner          [Николаев|11.11.1987, Николаев|11.11.1987, Ник...  \n",
       "stopList                                                          1  \n",
       "egripStatus                                                       0  \n",
       "dateRegistration                                         11.11.2020  "
      ]
     },
     "execution_count": 117,
     "metadata": {},
     "output_type": "execute_result"
    }
   ],
   "source": [
    "\n",
    "with open('re/DataSet.json', encoding='windows-1251') as f:\n",
    "    data = json.load(f)\n",
    "\n",
    "\n",
    "columns = ['client_1','client_2','client_3']\n",
    "\n",
    "\n",
    "\n",
    "def create_df(name,json_data,columns):\n",
    "    df_data = [data[name][i] for i in data[name]]\n",
    "    df_index = dict.fromkeys([i for i in data[name]],[data[name][j] for j in data[name]]).keys()\n",
    "    df = pd.DataFrame(data = df_data,index = df_index,columns=columns)\n",
    "    return df\n",
    "\n",
    "\n",
    "df_client = pd.DataFrame(data['client'], columns=columns)\n",
    "df_data = create_df(\"dataLiability\",data,columns)\n",
    "df_source = create_df(\"source\",data,columns)\n",
    "\n",
    "df = df_client.append([df_data,df_source])\n",
    "\n",
    "df\n"
   ]
  },
  {
   "cell_type": "markdown",
   "metadata": {},
   "source": [
    "### 2) Получить список уникальных обязательств (договоров) по каждому Заемщику"
   ]
  },
  {
   "cell_type": "code",
   "execution_count": 165,
   "metadata": {},
   "outputs": [
    {
     "name": "stdout",
     "output_type": "stream",
     "text": [
      "Cписок уникальных обязательств {'Петров Николай Иванович': ['V445B4', 'F452V-454', 'V45V24BB56B']}\n",
      "Cписок уникальных обязательств {'Иванов Петр Николаевич': ['2-CQE-RV-EW3', 'V24-VRQ-DV', 'SDF-S4B44-RTB']}\n",
      "Cписок уникальных обязательств {'Николаев Иван Петрович': ['24C-4-V4', 'V-2-4RTV-24-V-13V', 'CSDF-BW']}\n"
     ]
    }
   ],
   "source": [
    "dict\n",
    "for i in range(3):\n",
    "    list_app = df.loc['appNO'][i]\n",
    "    print('Cписок уникальных обязательств',{df.loc['name'][i]:list(set(list_app))})"
   ]
  },
  {
   "cell_type": "markdown",
   "metadata": {},
   "source": [
    "### 3) Посчитать количество открытых обязательств по каждому Заемщику. Обязательство считается открытым, если отсутствует дата закрытия."
   ]
  },
  {
   "cell_type": "code",
   "execution_count": 167,
   "metadata": {},
   "outputs": [
    {
     "name": "stdout",
     "output_type": "stream",
     "text": [
      "Количество открытых обязательств по заемщику Петров Николай Иванович 2\n",
      "Количество открытых обязательств по заемщику Иванов Петр Николаевич 3\n",
      "Количество открытых обязательств по заемщику Николаев Иван Петрович 0\n"
     ]
    }
   ],
   "source": [
    "for i in range(len(df.columns)):\n",
    "    filter_start = [x for x in df.loc['dateStart'][i] if x != '']\n",
    "#     filter_start = filter(None,df.loc['dateStart'][i])\n",
    "    filter_end = [x for x in df.loc['dateEnd'][i] if x != '']\n",
    "    print('Количество открытых обязательств по заемщику {}'.format(df.loc['name'][i]), len(filter_start)-len(filter_end))"
   ]
  },
  {
   "cell_type": "markdown",
   "metadata": {},
   "source": [
    "### 4) Посчитать количество закрытых обязательств по каждому Заемщику. Если указана дата закрытия и она позже даты открытия."
   ]
  },
  {
   "cell_type": "code",
   "execution_count": 175,
   "metadata": {},
   "outputs": [
    {
     "ename": "TypeError",
     "evalue": "an integer is required (got type str)",
     "output_type": "error",
     "traceback": [
      "\u001b[0;31m---------------------------------------------------------------------------\u001b[0m",
      "\u001b[0;31mTypeError\u001b[0m                                 Traceback (most recent call last)",
      "\u001b[0;32m<ipython-input-175-786dba9a5aec>\u001b[0m in \u001b[0;36m<module>\u001b[0;34m\u001b[0m\n\u001b[1;32m      5\u001b[0m \u001b[0;31m#     count = len([datetime(d,for d in filte\u001b[0m\u001b[0;34m\u001b[0m\u001b[0;34m\u001b[0m\u001b[0;34m\u001b[0m\u001b[0m\n\u001b[1;32m      6\u001b[0m \u001b[0;31m#     print(filter_end)\u001b[0m\u001b[0;34m\u001b[0m\u001b[0;34m\u001b[0m\u001b[0;34m\u001b[0m\u001b[0m\n\u001b[0;32m----> 7\u001b[0;31m \u001b[0mprint\u001b[0m\u001b[0;34m(\u001b[0m\u001b[0mdatetime\u001b[0m\u001b[0;34m.\u001b[0m\u001b[0mdate\u001b[0m\u001b[0;34m(\u001b[0m\u001b[0;34m'01.01.2020'\u001b[0m\u001b[0;34m)\u001b[0m\u001b[0;34m)\u001b[0m\u001b[0;34m\u001b[0m\u001b[0;34m\u001b[0m\u001b[0m\n\u001b[0m",
      "\u001b[0;31mTypeError\u001b[0m: an integer is required (got type str)"
     ]
    }
   ],
   "source": [
    "import datetime\n",
    "for i in range(len(df.columns)):\n",
    "    filter_start = [x for x in df.loc['dateStart'][i] if x != '']\n",
    "    filter_end = [x for x in df.loc['dateEnd'][i] if x != '']\n",
    "#     count = len([datetime(d,for d in filte\n",
    "#     print(filter_end)\n",
    "print(datetime.date('01.01.2020'))\n"
   ]
  },
  {
   "cell_type": "code",
   "execution_count": null,
   "metadata": {},
   "outputs": [],
   "source": []
  }
 ],
 "metadata": {
  "kernelspec": {
   "display_name": "Python 3",
   "language": "python",
   "name": "python3"
  },
  "language_info": {
   "codemirror_mode": {
    "name": "ipython",
    "version": 3
   },
   "file_extension": ".py",
   "mimetype": "text/x-python",
   "name": "python",
   "nbconvert_exporter": "python",
   "pygments_lexer": "ipython3",
   "version": "3.7.6"
  }
 },
 "nbformat": 4,
 "nbformat_minor": 4
}
