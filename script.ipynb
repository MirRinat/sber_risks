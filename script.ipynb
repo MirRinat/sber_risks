{
 "cells": [
  {
   "cell_type": "code",
   "execution_count": 346,
   "metadata": {},
   "outputs": [],
   "source": [
    "import pandas as pd\n",
    "import json\n",
    "from datetime import datetime, date\n",
    "from collections import defaultdict "
   ]
  },
  {
   "cell_type": "code",
   "execution_count": 347,
   "metadata": {},
   "outputs": [
    {
     "data": {
      "text/html": [
       "<div>\n",
       "<style scoped>\n",
       "    .dataframe tbody tr th:only-of-type {\n",
       "        vertical-align: middle;\n",
       "    }\n",
       "\n",
       "    .dataframe tbody tr th {\n",
       "        vertical-align: top;\n",
       "    }\n",
       "\n",
       "    .dataframe thead th {\n",
       "        text-align: right;\n",
       "    }\n",
       "</style>\n",
       "<table border=\"1\" class=\"dataframe\">\n",
       "  <thead>\n",
       "    <tr style=\"text-align: right;\">\n",
       "      <th></th>\n",
       "      <th>client_1</th>\n",
       "      <th>client_2</th>\n",
       "      <th>client_3</th>\n",
       "    </tr>\n",
       "  </thead>\n",
       "  <tbody>\n",
       "    <tr>\n",
       "      <th>name</th>\n",
       "      <td>Петров Николай Иванович</td>\n",
       "      <td>Иванов Петр Николаевич</td>\n",
       "      <td>Николаев Иван Петрович</td>\n",
       "    </tr>\n",
       "    <tr>\n",
       "      <th>clientType</th>\n",
       "      <td>ИП</td>\n",
       "      <td>ИП</td>\n",
       "      <td>ИП</td>\n",
       "    </tr>\n",
       "    <tr>\n",
       "      <th>birthday</th>\n",
       "      <td>09.07.2003</td>\n",
       "      <td>01.01.1990</td>\n",
       "      <td>11.11.1987</td>\n",
       "    </tr>\n",
       "    <tr>\n",
       "      <th>inn</th>\n",
       "      <td>123456789123</td>\n",
       "      <td>123456789124</td>\n",
       "      <td>123456789125</td>\n",
       "    </tr>\n",
       "    <tr>\n",
       "      <th>citizenship</th>\n",
       "      <td>RU</td>\n",
       "      <td>US</td>\n",
       "      <td>RU</td>\n",
       "    </tr>\n",
       "    <tr>\n",
       "      <th>appNO</th>\n",
       "      <td>[V445B4, V45V24BB56B, F452V-454]</td>\n",
       "      <td>[SDF-S4B44-RTB, V24-VRQ-DV, 2-CQE-RV-EW3]</td>\n",
       "      <td>[24C-4-V4, V-2-4RTV-24-V-13V, CSDF-BW]</td>\n",
       "    </tr>\n",
       "    <tr>\n",
       "      <th>dateStart</th>\n",
       "      <td>[11.11.2016, 11.10.2017, 11.10.2018]</td>\n",
       "      <td>[11.11.2016, 11.10.2017, 11.10.2018]</td>\n",
       "      <td>[11.11.2016, 11.10.2017, 11.10.2018]</td>\n",
       "    </tr>\n",
       "    <tr>\n",
       "      <th>dateEnd</th>\n",
       "      <td>[, 01.01.2020, ]</td>\n",
       "      <td>[, , ]</td>\n",
       "      <td>[01.01.2020, 01.01.2020, 01.01.2020]</td>\n",
       "    </tr>\n",
       "    <tr>\n",
       "      <th>sumLiability</th>\n",
       "      <td>[100000, 555000, 100500]</td>\n",
       "      <td>[1000000, 99000, 125000]</td>\n",
       "      <td>[1500000, 200000, 350000]</td>\n",
       "    </tr>\n",
       "    <tr>\n",
       "      <th>sumBalance</th>\n",
       "      <td>[10000, 0, 50000]</td>\n",
       "      <td>[950000, 15000, 10000]</td>\n",
       "      <td>[0, 0, 0]</td>\n",
       "    </tr>\n",
       "    <tr>\n",
       "      <th>sumDelay</th>\n",
       "      <td>[0, 0, 2500]</td>\n",
       "      <td>[25000, 1000, 0]</td>\n",
       "      <td>[0, 0, 0]</td>\n",
       "    </tr>\n",
       "    <tr>\n",
       "      <th>appOwner</th>\n",
       "      <td>[Петров|09.07.2003, Иванов|09.07.2003, Петров|...</td>\n",
       "      <td>[Иванов|01.01.1990, Иванов|01.01.1990, Иванов|...</td>\n",
       "      <td>[Николаев|11.11.1987, Николаев|11.11.1987, Ник...</td>\n",
       "    </tr>\n",
       "    <tr>\n",
       "      <th>stopList</th>\n",
       "      <td>1</td>\n",
       "      <td>1</td>\n",
       "      <td>1</td>\n",
       "    </tr>\n",
       "    <tr>\n",
       "      <th>egripStatus</th>\n",
       "      <td>1</td>\n",
       "      <td>1</td>\n",
       "      <td>0</td>\n",
       "    </tr>\n",
       "    <tr>\n",
       "      <th>dateRegistration</th>\n",
       "      <td>11.11.2019</td>\n",
       "      <td>11.11.2015</td>\n",
       "      <td>11.11.2020</td>\n",
       "    </tr>\n",
       "  </tbody>\n",
       "</table>\n",
       "</div>"
      ],
      "text/plain": [
       "                                                           client_1  \\\n",
       "name                                        Петров Николай Иванович   \n",
       "clientType                                                       ИП   \n",
       "birthday                                                 09.07.2003   \n",
       "inn                                                    123456789123   \n",
       "citizenship                                                      RU   \n",
       "appNO                              [V445B4, V45V24BB56B, F452V-454]   \n",
       "dateStart                      [11.11.2016, 11.10.2017, 11.10.2018]   \n",
       "dateEnd                                            [, 01.01.2020, ]   \n",
       "sumLiability                               [100000, 555000, 100500]   \n",
       "sumBalance                                        [10000, 0, 50000]   \n",
       "sumDelay                                               [0, 0, 2500]   \n",
       "appOwner          [Петров|09.07.2003, Иванов|09.07.2003, Петров|...   \n",
       "stopList                                                          1   \n",
       "egripStatus                                                       1   \n",
       "dateRegistration                                         11.11.2019   \n",
       "\n",
       "                                                           client_2  \\\n",
       "name                                         Иванов Петр Николаевич   \n",
       "clientType                                                       ИП   \n",
       "birthday                                                 01.01.1990   \n",
       "inn                                                    123456789124   \n",
       "citizenship                                                      US   \n",
       "appNO                     [SDF-S4B44-RTB, V24-VRQ-DV, 2-CQE-RV-EW3]   \n",
       "dateStart                      [11.11.2016, 11.10.2017, 11.10.2018]   \n",
       "dateEnd                                                      [, , ]   \n",
       "sumLiability                               [1000000, 99000, 125000]   \n",
       "sumBalance                                   [950000, 15000, 10000]   \n",
       "sumDelay                                           [25000, 1000, 0]   \n",
       "appOwner          [Иванов|01.01.1990, Иванов|01.01.1990, Иванов|...   \n",
       "stopList                                                          1   \n",
       "egripStatus                                                       1   \n",
       "dateRegistration                                         11.11.2015   \n",
       "\n",
       "                                                           client_3  \n",
       "name                                         Николаев Иван Петрович  \n",
       "clientType                                                       ИП  \n",
       "birthday                                                 11.11.1987  \n",
       "inn                                                    123456789125  \n",
       "citizenship                                                      RU  \n",
       "appNO                        [24C-4-V4, V-2-4RTV-24-V-13V, CSDF-BW]  \n",
       "dateStart                      [11.11.2016, 11.10.2017, 11.10.2018]  \n",
       "dateEnd                        [01.01.2020, 01.01.2020, 01.01.2020]  \n",
       "sumLiability                              [1500000, 200000, 350000]  \n",
       "sumBalance                                                [0, 0, 0]  \n",
       "sumDelay                                                  [0, 0, 0]  \n",
       "appOwner          [Николаев|11.11.1987, Николаев|11.11.1987, Ник...  \n",
       "stopList                                                          1  \n",
       "egripStatus                                                       0  \n",
       "dateRegistration                                         11.11.2020  "
      ]
     },
     "execution_count": 347,
     "metadata": {},
     "output_type": "execute_result"
    }
   ],
   "source": [
    "\n",
    "with open('re/DataSet.json', encoding='windows-1251') as f:\n",
    "    data = json.load(f)\n",
    "\n",
    "\n",
    "columns = ['client_1','client_2','client_3']\n",
    "\n",
    "\n",
    "\n",
    "def create_df(name,json_data,columns):\n",
    "    df_data = [data[name][i] for i in data[name]]\n",
    "    df_index = dict.fromkeys([i for i in data[name]],[data[name][j] for j in data[name]]).keys()\n",
    "    df = pd.DataFrame(data = df_data,index = df_index,columns=columns)\n",
    "    return df\n",
    "\n",
    "\n",
    "df_client = pd.DataFrame(data['client'], columns=columns)\n",
    "df_data = create_df(\"dataLiability\",data,columns)\n",
    "df_source = create_df(\"source\",data,columns)\n",
    "\n",
    "df = df_client.append([df_data,df_source])\n",
    "\n",
    "df\n"
   ]
  },
  {
   "cell_type": "markdown",
   "metadata": {},
   "source": [
    "### 2) Получить список уникальных обязательств (договоров) по каждому Заемщику"
   ]
  },
  {
   "cell_type": "code",
   "execution_count": 348,
   "metadata": {},
   "outputs": [
    {
     "name": "stdout",
     "output_type": "stream",
     "text": [
      "Cписок уникальных обязательств {'Петров Николай Иванович': ['V445B4', 'F452V-454', 'V45V24BB56B']}\n",
      "Cписок уникальных обязательств {'Иванов Петр Николаевич': ['2-CQE-RV-EW3', 'V24-VRQ-DV', 'SDF-S4B44-RTB']}\n",
      "Cписок уникальных обязательств {'Николаев Иван Петрович': ['24C-4-V4', 'V-2-4RTV-24-V-13V', 'CSDF-BW']}\n"
     ]
    },
    {
     "data": {
      "text/plain": [
       "{'client_1': ['V445B4', 'F452V-454', 'V45V24BB56B'],\n",
       " 'client_2': ['2-CQE-RV-EW3', 'V24-VRQ-DV', 'SDF-S4B44-RTB'],\n",
       " 'client_3': ['24C-4-V4', 'V-2-4RTV-24-V-13V', 'CSDF-BW']}"
      ]
     },
     "execution_count": 348,
     "metadata": {},
     "output_type": "execute_result"
    }
   ],
   "source": [
    "dict_uniq_contract = {}\n",
    "for i in range(3):\n",
    "    list_app = df.loc['appNO'][i]\n",
    "    print('Cписок уникальных обязательств',{df.loc['name'][i]:list(set(list_app))})\n",
    "    dict_uniq_contract[df.columns[i]] = list(set(list_app))\n",
    "dict_uniq_contract"
   ]
  },
  {
   "cell_type": "markdown",
   "metadata": {},
   "source": [
    "### 3) Посчитать количество открытых обязательств по каждому Заемщику. Обязательство считается открытым, если отсутствует дата закрытия."
   ]
  },
  {
   "cell_type": "code",
   "execution_count": 349,
   "metadata": {},
   "outputs": [
    {
     "name": "stdout",
     "output_type": "stream",
     "text": [
      "Количество открытых обязательств по заемщику Петров Николай Иванович 2\n",
      "Количество открытых обязательств по заемщику Иванов Петр Николаевич 3\n",
      "Количество открытых обязательств по заемщику Николаев Иван Петрович 0\n"
     ]
    },
    {
     "data": {
      "text/plain": [
       "{'client_1': 2, 'client_2': 3, 'client_3': 0}"
      ]
     },
     "execution_count": 349,
     "metadata": {},
     "output_type": "execute_result"
    }
   ],
   "source": [
    "dict_count_open_contact = {}\n",
    "for i in range(len(df.columns)):\n",
    "    filter_start = [x for x in df.loc['dateStart'][i] if x != '']\n",
    "#     filter_start = filter(None,df.loc['dateStart'][i])\n",
    "    filter_end = [x for x in df.loc['dateEnd'][i] if x != '']\n",
    "    print('Количество открытых обязательств по заемщику {}'.format(df.loc['name'][i]), len(filter_start)-len(filter_end))\n",
    "    dict_count_open_contact[df.columns[i]]= len(filter_start)-len(filter_end)\n",
    "dict_count_open_contact"
   ]
  },
  {
   "cell_type": "markdown",
   "metadata": {},
   "source": [
    "### 4) Посчитать количество закрытых обязательств по каждому Заемщику. Если указана дата закрытия и она позже даты открытия."
   ]
  },
  {
   "cell_type": "code",
   "execution_count": 350,
   "metadata": {},
   "outputs": [
    {
     "name": "stdout",
     "output_type": "stream",
     "text": [
      "количество закрытых обязательств по Заемщику Петров Николай Иванович 1\n",
      "количество закрытых обязательств по Заемщику Иванов Петр Николаевич 0\n",
      "количество закрытых обязательств по Заемщику Николаев Иван Петрович 3\n",
      "{'client_1': 1, 'client_2': 0, 'client_3': 3}\n"
     ]
    }
   ],
   "source": [
    "dict_count_locked_contract = dict()\n",
    "for i in range(len(df.columns)):\n",
    "    filter_start = [datetime.strptime(d,'%d.%m.%Y').date() for d in df.loc['dateStart'][i] if d != '']\n",
    "    filter_end = [datetime.strptime(d,'%d.%m.%Y').date() for d in df.loc['dateEnd'][i] if d != '']\n",
    "    check_end = []\n",
    "    for z in range(len(filter_end)):\n",
    "        check_end = [k for k in filter_end if filter_end[z] > filter_start[z]] \n",
    "    print('количество закрытых обязательств по Заемщику {}'.format(df.loc['name'][i]), len(check_end))\n",
    "    dict_count_locked_contract[df.columns[i]] = len(check_end)\n",
    "print(dict_count_locked_contract)\n"
   ]
  },
  {
   "cell_type": "markdown",
   "metadata": {},
   "source": [
    "### 5) Посчитать текущую просроченную задолженность по каждому Заемщику."
   ]
  },
  {
   "cell_type": "code",
   "execution_count": 351,
   "metadata": {},
   "outputs": [
    {
     "data": {
      "text/plain": [
       "{'client_1': 2500, 'client_2': 26000, 'client_3': 0}"
      ]
     },
     "execution_count": 351,
     "metadata": {},
     "output_type": "execute_result"
    }
   ],
   "source": [
    "dict_sumDelay = dict()\n",
    "for i in range(len(df.columns)):\n",
    "    dict_sumDelay[df.columns[i]] = sum(df.loc['sumDelay'][i])\n",
    "dict_sumDelay"
   ]
  },
  {
   "cell_type": "markdown",
   "metadata": {},
   "source": [
    "### 6) Оценить кредитную историю каждого Заемщика: "
   ]
  },
  {
   "cell_type": "code",
   "execution_count": 352,
   "metadata": {},
   "outputs": [
    {
     "data": {
      "text/plain": [
       "{'client_1': 'B', 'client_2': 'B', 'client_3': 'G'}"
      ]
     },
     "execution_count": 352,
     "metadata": {},
     "output_type": "execute_result"
    }
   ],
   "source": [
    "dict_statusCH = {}\n",
    "#- КИ плохая, если текущая просрочка > 1000 руб.\n",
    "#- КИ хорошая, если имеются закрытые/открытые договора и нет просрочки\n",
    "#- КИ средняя, если имеется закрытые договора и 0 < текущая просрочка <= 1000 руб.\n",
    "#- КИ отсутствует, если у клиента нет ни одного обязательства\n",
    "\n",
    "# статус кредитной истории: G - хорошая, B - плохая, E - отсутствует, N - средняя\n",
    "\n",
    "for i in df.columns:\n",
    "    if dict_sumDelay[i] > 1000:\n",
    "        dict_statusCH[i] = 'B'\n",
    "    elif dict_count_locked_contract[i] != 0 and dict_sumDelay[i] == 0:\n",
    "        dict_statusCH[i] = 'G'\n",
    "    elif dict_count_locked_contract[i] != 0 and 0 < dict_sumDelay[i] <= 1000:\n",
    "         dict_statusCH[i] = 'N'\n",
    "    elif len(dict_uniq_contract[i]) == 0:\n",
    "        dict_statusCH[i] = 'E'\n",
    "dict_statusCH               "
   ]
  },
  {
   "cell_type": "markdown",
   "metadata": {},
   "source": [
    "### 7) Реализовать правила, проверяющие на соответствие каждого клиента требованиям Банка и вернуть сработавшие правила:"
   ]
  },
  {
   "cell_type": "code",
   "execution_count": 353,
   "metadata": {},
   "outputs": [
    {
     "data": {
      "text/plain": [
       "{'client_1': ['rule_2'],\n",
       " 'client_2': ['rule_1'],\n",
       " 'client_3': ['rule_4', 'rule_5']}"
      ]
     },
     "execution_count": 353,
     "metadata": {},
     "output_type": "execute_result"
    }
   ],
   "source": [
    "#             - Гражданство РФ (в случае несоответствия вернуть правило \"rule_1\")\n",
    "#             - Минимальный возраст - 18 лет (в случае несоответствия вернуть правило \"rule_2\")\n",
    "#             - Максимальный возраст - 55 лет (в случае несоответствия вернуть правило \"rule_3\")\n",
    "#             - ИП - статус \"Действующий\" (в случае несоответствия вернуть правило \"rule_4\")\n",
    "#             - Срок ведения хоз. деятельности не менее 6-ти месяцев (в случае несоответствия вернуть правило \"rule_5\")\n",
    "\n",
    "dict_rules = dict()\n",
    "\n",
    "def count_years(birthday):\n",
    "    now = datetime.now().date()\n",
    "    last = datetime.strptime(birthday,'%d.%m.%Y').date()\n",
    "    years = relativedelta(now, last).years\n",
    "    return years\n",
    "\n",
    "\n",
    "def count_month(birthday):\n",
    "    now = datetime.now().date()\n",
    "    last = datetime.strptime(birthday,'%d.%m.%Y').date()\n",
    "    month = relativedelta(now, last).years * 12 + relativedelta(now, last).months\n",
    "    return month\n",
    "\n",
    "\n",
    "\n",
    "for i in range(len(df.columns)):\n",
    "    dict_rules[df.columns[i]]=[]\n",
    "    if df.loc['citizenship'][i] != 'RU':\n",
    "        dict_rules[df.columns[i]].append('rule_1')\n",
    "    if count_years(df.loc['birthday'][i]) < 18:\n",
    "        dict_rules[df.columns[i]].append('rule_2')\n",
    "    if count_years(df.loc['birthday'][i]) > 55:\n",
    "        dict_rules[df.columns[i]].append('rule_3')\n",
    "    if df.loc['egripStatus'][i] != 1:\n",
    "        dict_rules[df.columns[i]].append('rule_4')\n",
    "    if count_month(df.loc['dateRegistration'][i]) < 6:\n",
    "        dict_rules[df.columns[i]].append('rule_5')\n",
    "    \n",
    "\n",
    "dict_rules\n",
    "        "
   ]
  },
  {
   "cell_type": "markdown",
   "metadata": {},
   "source": [
    "### 8) Вернуть ответ, пример ответа смотреть во вложении файл «Пример ответа». (файл ответа формировать не обязательно)"
   ]
  },
  {
   "cell_type": "code",
   "execution_count": 374,
   "metadata": {},
   "outputs": [
    {
     "name": "stdout",
     "output_type": "stream",
     "text": [
      "{\n",
      "   \"result\": {\n",
      "      \"client\": {\n",
      "         \"client_1\": {\n",
      "            \"rules\": [\n",
      "               \"rule_2\"\n",
      "            ],\n",
      "            \"countOpenLiability\": 2,\n",
      "            \"countCloseLiability\": 1,\n",
      "            \"sumDelays\": 2500,\n",
      "            \"statusCH\": \"B\",\n",
      "            \"arrayLiability\": [\n",
      "               \"V445B4\",\n",
      "               \"F452V-454\",\n",
      "               \"V45V24BB56B\"\n",
      "            ]\n",
      "         },\n",
      "         \"client_2\": {\n",
      "            \"rules\": [\n",
      "               \"rule_1\"\n",
      "            ],\n",
      "            \"countOpenLiability\": 3,\n",
      "            \"countCloseLiability\": 0,\n",
      "            \"sumDelays\": 26000,\n",
      "            \"statusCH\": \"B\",\n",
      "            \"arrayLiability\": [\n",
      "               \"2-CQE-RV-EW3\",\n",
      "               \"V24-VRQ-DV\",\n",
      "               \"SDF-S4B44-RTB\"\n",
      "            ]\n",
      "         },\n",
      "         \"client_3\": {\n",
      "            \"rules\": [\n",
      "               \"rule_4\",\n",
      "               \"rule_5\"\n",
      "            ],\n",
      "            \"countOpenLiability\": 0,\n",
      "            \"countCloseLiability\": 3,\n",
      "            \"sumDelays\": 0,\n",
      "            \"statusCH\": \"G\",\n",
      "            \"arrayLiability\": [\n",
      "               \"24C-4-V4\",\n",
      "               \"V-2-4RTV-24-V-13V\",\n",
      "               \"CSDF-BW\"\n",
      "            ]\n",
      "         }\n",
      "      }\n",
      "   }\n",
      "}\n"
     ]
    }
   ],
   "source": [
    "result = {'result':{'client':{}}}\n",
    "\n",
    "for i in columns:\n",
    "    client_dict = {str(i): {\n",
    "\t\t\t\t\"rules\": dict_rules[i],\n",
    "\t\t\t\t\"countOpenLiability\": dict_count_open_contact[i],\n",
    "\t\t\t\t\"countCloseLiability\": dict_count_locked_contract[i],\n",
    "\t\t\t\t\"sumDelays\": dict_sumDelay[i],\n",
    "\t\t\t\t\"statusCH\": dict_statusCH[i],\n",
    "\t\t\t\t\"arrayLiability\": dict_uniq_contract[i]\n",
    "\t\t\t},}\n",
    "    result['result']['client'].update(client_dict)\n",
    " \n",
    "result_json = json.dumps(result,indent=3)\n",
    "\n",
    "#save in file\n",
    "with open('result.json','w') as f:\n",
    "    json.dump(result,f,indent = 3)\n",
    "\n",
    "print(result_json)"
   ]
  },
  {
   "cell_type": "code",
   "execution_count": null,
   "metadata": {},
   "outputs": [],
   "source": []
  }
 ],
 "metadata": {
  "kernelspec": {
   "display_name": "Python 3",
   "language": "python",
   "name": "python3"
  },
  "language_info": {
   "codemirror_mode": {
    "name": "ipython",
    "version": 3
   },
   "file_extension": ".py",
   "mimetype": "text/x-python",
   "name": "python",
   "nbconvert_exporter": "python",
   "pygments_lexer": "ipython3",
   "version": "3.7.6"
  }
 },
 "nbformat": 4,
 "nbformat_minor": 4
}
